{
 "cells": [
  {
   "cell_type": "code",
   "execution_count": 1,
   "metadata": {
    "scrolled": true
   },
   "outputs": [],
   "source": [
    "run src/midi_processing.py"
   ]
  },
  {
   "cell_type": "code",
   "execution_count": null,
   "metadata": {
    "scrolled": true
   },
   "outputs": [],
   "source": [
    "oh = one_hot_song(\"data/leads_with_rests/Andrew-Rayel-NWYR-The-Melody-theseus-20190522144405-nonstop2k.com.mid\")\n",
    "fuck_you = one_hot_to_midi(oh)\n",
    "mf = midi.translate.streamToMidiFile(fuck_you)\n",
    "mf.open('data/rencoded/test.mid', 'wb')\n",
    "mf.write()\n",
    "mf.close()"
   ]
  },
  {
   "cell_type": "code",
   "execution_count": 3,
   "metadata": {
    "scrolled": true
   },
   "outputs": [
    {
     "name": "stdout",
     "output_type": "stream",
     "text": [
      "[355 355 355 355 355 355  46  53  58  61  65 387 269 174 181 186 189 193\n",
      "  46  53  58  61  65 387 269 174 181 186 189 193  46  53  58  61  65 387\n",
      " 269 174 181 186 189 193  46  53  58  61  65 387 269 174 181 186 189 193\n",
      "  46  53  58  61  65 387 269 174 181 186 189 193  46  53  58  60  65 387\n",
      " 269 174 181 186 188 193  46  53  58  60  65 387 269 174 181 186 188 193\n",
      "  46  53  58  60  65 387 269 174 181 186 188 193  42  54  56  61 387 269\n",
      " 170 182 184 189  42  54  56  61 387 269 170 182 184 189  42  54 387 306\n",
      " 170 182  56  61 387 269 184 189 355 355 355  42  54 387 306 170 182  56\n",
      "  61 387 269 184 189  49  56  61  63 387 269 177 184 189 191  49  56  61\n",
      "  63 387 269 177 184 189 191  49  56  61  63 387 269 177 184 189 191  49\n",
      "  56  61  63 387 269 177 184 189 191  49  56  60  63 387 269 177 184 188\n",
      " 191  49  56  60  63 387 269 177 184 188 191  49 387 256 177  56  60  63\n",
      " 387 269 184 188 191  49 387 256 177  56  61  63 387 269 184 189 191  44\n",
      "  56  60  63 387 269 172 184 188 191  44  56  60  63 387 269 172 184 188\n",
      " 191  44  56  60  63 387 269 172 184 188 191  44  56  60  63 387 269 172\n",
      " 184 188 191  46  53  58  61  65 387 269 174 181 186 189 193  46  53  58\n",
      "  61  65 387 269 174 181 186 189 193  46  53  58  61  65 387 269 174 181\n",
      " 186 189 193  46  53  58  61  65 387 269 174 181 186 189 193  46  53  58\n",
      "  61  65 387 269 174 181 186 189 193  46  53  58  60  65 387 269 174 181\n",
      " 186 188 193  46  53  58  60  65 387 269 174 181 186 188 193  46  53  58\n",
      "  60  65 387 269 174 181 186 188 193  42  54  56  61 387 269 170 182 184\n",
      " 189  42  54  56  61 387 269 170 182 184 189  42 387 306 170  54  56  61\n",
      " 387 269 182 184 189  42 387 306 170  54  56  61 387 269 182 184 189  49\n",
      "  56  61  63 387 269 177 184 189 191  49  56  61  63 387 269 177 184 189\n",
      " 191  49  56  61  63 387 269 177 184 189 191  49  56  61  63 387 269 177\n",
      " 184 189 191  49  56  61  63 387 269 177 184 189 191  49  56  60  63 387\n",
      " 269 177 184 188 191  49  56  60  63 387 269 177 184 188 191  49  56  60\n",
      "  63 387 269 177 184 188 191  44  49  56  60  63 387 269 172 177 184 188\n",
      " 191  44  49  56  60  63 387 269 172 177 184 188 191  44  49  56  60  63\n",
      " 387 269 172 177 184 188 191  44  49  56  60  63 387 172 177 184 188 191\n",
      "  42  54  56  61 387 269 170 182 184 189  42  54  56  61 387 269 170 182\n",
      " 184 189  42  54 387 306 170 182  56  61 387 269 184 189  42  54 387 306\n",
      " 170 182  56  61 387 269 184 189  49  56  61  63 387 269 177 184 189 191\n",
      "  49  56  61  63 387 269 177 184 189 191  49  56  61  63 387 269 177 184\n",
      " 189 191  49  56  61  63 387 269 177 184 189 191  49  56  60  63 387 269\n",
      " 177 184 188 191  49  56  60  63 387 269 177 184 188 191  49 387 256 177\n",
      "  56  60  63 387 269 184 188 191  49 387 256 177  56  61  63 387 269 184\n",
      " 189 191  44  56  60  63 387 269 172 184 188 191  44  56  60  63 387 269\n",
      " 172 184 188 191  44  56  60  63 387 269 172 184 188 191  44  56  60  63\n",
      " 387 269 172 184 188 191  46  53  58  61  65 387 269 174 181 186 189 193\n",
      "  46  53  58  61  65 387 269 174 181 186 189 193  46  53  58  61  65 387\n",
      " 269 174 181 186 189 193  46  53  58  61  65 387 269 174 181 186 189 193\n",
      "  46  53  58  61  65 387 269 174 181 186 189 193  46  53  58  60  65 387\n",
      " 269 174 181 186 188 193  46  53  58  60  65 387 269 174 181 186 188 193\n",
      "  46  53  58  60  65 387 269 174 181 186 188 193  42  54  56  61 387 269\n",
      " 170 182 184 189  42  54  56  61 387 269 170 182 184 189  42 387 306 170\n",
      "  54  56  61 387 269 182 184 189  42 387 306 170  54  56  61 387 269 182\n",
      " 184 189  49  56  61  63 387 269 177 184 189 191  49  56  61  63 387 269\n",
      " 177 184 189 191  49  56  61  63 387 269 177 184 189 191  49  56  61  63\n",
      " 387 269 177 184 189 191 355 306  49  56  61  63 387 269 177 184 189 191\n",
      "  49  56  60  63 387 269 177 184 188 191  49  56  60  63 387 269 177 184\n",
      " 188 191  49  56  60  63 387 269 177 184 188 191  44  49  56  60  63 387\n",
      " 269 172 177 184 188 191  44  49  56  60  63 387 269 172 177 184 188 191\n",
      "  44  49  56  60  63 387 269 172 177 184 188 191  44  49  56  60  63 387\n",
      " 172 177 184 188 191]\n"
     ]
    }
   ],
   "source": [
    "events = np.nonzero(oh)[1]\n",
    "print(events)"
   ]
  },
  {
   "cell_type": "code",
   "execution_count": null,
   "metadata": {
    "scrolled": false
   },
   "outputs": [
    {
     "name": "stdout",
     "output_type": "stream",
     "text": [
      "Nice!...data/leads_with_rests/KSHMR-Brooks-ID-theseus-20190812190453-nonstop2k.com.mid...is A OK!\n",
      "Nice!...data/leads_with_rests/Andrew-Rayel-NWYR-The-Melody-theseus-20190522144405-nonstop2k.com.mid...is A OK!\n",
      "Nice!...data/leads_with_rests/Alan Walker - The Spectre  (midi by Carlo Prato) (www.cprato.com).mid...is A OK!\n",
      "Nice!...data/leads_with_rests/Kygo & Selena Gomez - It Ain't Me  (midi by Carlo Prato) (www.cprato.com).mid...is A OK!\n",
      "Nice!...data/leads_with_rests/Brooks-Jonas-Aden-Riot-theseus-20190906104700-nonstop2k.com.mid...is A OK!\n",
      "Nice!...data/leads_with_rests/Cash-Cash-Call-You-feat-Nasri-of-MAGIC-theseus-20190702210618-nonstop2k.com.mid...is A OK!\n",
      "Nice!...data/leads_with_rests/Illenium-Free-Fall-andrew-ushakov96-20171007220131-nonstop2k.com.mid...is A OK!\n",
      "Nice!...data/leads_with_rests/3LAU feat. Bright Lights - How You Love Me  (midi by Carlo Prato) (www.cprato.com).mid...is A OK!\n",
      "Nice!...data/leads_with_rests/Alesso ft. Matthew Koma - Years (Original Mix) (midi by Carlo Prato) (www.cprato.com).mid...is A OK!\n",
      "Nice!...data/leads_with_rests/Avicii-Sandro-Cavazza-Without-You-BassBringer-20180510190520-nonstop2k.com.mid...is A OK!\n",
      "Nice!...data/leads_with_rests/Kygo & Ellie Goulding - First Time  (midi by Carlo Prato) (www.cprato.com).mid...is A OK!\n",
      "Nice!...data/leads_with_rests/Martin-Garrix-JRM-These-Are-The-Times-theseus-20190826192700-nonstop2k.com.mid...is A OK!\n",
      "Nice!...data/leads_with_rests/Alan_Walker_Faded.mid...is A OK!\n",
      "Nice!...data/leads_with_rests/Armin van Buuren feat. Cimo Fränkel - Strong Ones  (midi by Carlo Prato) (www.cprato.com).mid...is A OK!\n",
      "Nice!...data/leads_with_rests/Cacti - Believing in You (Midi by Carlo Prato) (www.cprato.com).mid...is A OK!\n",
      "Nice!...data/leads_with_rests/MartinGarrix_Bebe_Rexha_InTheNameOfLove.mid...is A OK!\n",
      "Nice!...data/leads_with_rests/TheChainsmokers&Coldplay_SomethingJustLikeThis.mid...is A OK!\n",
      "Nice!...data/leads_with_rests/Sebastian Ingrosso & Alesso - Calling.mid...is A OK!\n",
      "Nice!...data/leads_with_rests/Gareth Emery - The Story So Far  (midi by Carlo Prato) (www.cprato.com).mid...is A OK!\n",
      "Nice!...data/leads_with_rests/Kygo_feat_Whitney_Houston_HigherLove.mid...is A OK!\n",
      "Nice!...data/leads_with_rests/Tritonal_Anchor.mid...is A OK!\n",
      "Nice!...data/leads_with_rests/R-F-S-DU-SOL-Treat-You-Better-Cassian-Remix-theseus-20190716205438-nonstop2k.com.mid...is A OK!\n",
      "Nice!...data/leads_with_rests/RL-Grime-Miguel-Julia-Michaels-Light-Me-Up-rlc-winston-20180918222247-nonstop2k.com.mid...is A OK!\n",
      "Nice!...data/leads_with_rests/Above & Beyond feat. Alex Vargas - Blue Sky Action  (midi by Carlo Prato) (www.cprato.com).mid...is A OK!\n",
      "Nice!...data/leads_with_rests/Tiesto&KSHMR_feat_Vassy_Secrets.mid...is A OK!\n",
      "Nice!...data/leads_with_rests/Galantis_LoveOnMe.mid...is A OK!\n",
      "Nice!...data/leads_with_rests/Avicii_Without_You.mid...is A OK!\n",
      "Nice!...data/leads_with_rests/Tiesto-Stargate-Aloe-Blacc-Carry-You-Home-rlc-winston-20171007220141-nonstop2k.com.mid...is A OK!\n",
      "Nice!...data/leads_with_rests/Alesso-Nico-Vinz-I-Wanna-Know-BassBringer-20160613224729-nonstop2k.com.mid...is A OK!\n",
      "Nice!...data/leads_with_rests/Kygo_firestone.mid...is A OK!\n",
      "Nice!...data/leads_with_rests/R3hab-KSHMR-Islands-max123a-20171205145137-nonstop2k.com.mid...is A OK!\n",
      "Nice!...data/leads_with_rests/Marshmello-Chvrches-Here-With-Me-theseus-20190522144255-nonstop2k.com.mid...is A OK!\n",
      "Nice!...data/leads_with_rests/Zedd & Hailee Steinfeld Grey - Starving  (midi by Carlo Prato) (www.cprato.com).mid...is A OK!\n",
      "Nice!...data/leads_with_rests/Kill Paris ft. Royal - Operate (Illenium Remix) (midi by Carlo Prato) (www.cprato.com).mid...is A OK!\n",
      "Nice!...data/leads_with_rests/Said-the-Sky-Mountains-ft-Diamond-Eyes-Skrux-Remix-Anonymous-20180119055128-nonstop2k.com.mid...is A OK!\n",
      "Nice!...data/leads_with_rests/Axwell-Ingrosso-I-Love-You-ft-Kid-Ink-andrew-ushakov96-20190610193109-nonstop2k.com.mid...is A OK!\n",
      "Nice!...data/leads_with_rests/Marshmello-Bastille-Happier-theseus-20181222133008-nonstop2k.com.mid...is A OK!\n"
     ]
    }
   ],
   "source": [
    "good = 0\n",
    "bad = 0\n",
    "for song in corpus:\n",
    "    try:\n",
    "        x = one_hot_song(song)\n",
    "        one_hot_to_midi(x)\n",
    "        good += 1\n",
    "        print(f'Nice!...{song}...is A OK!')\n",
    "    except:\n",
    "        bad += 1\n",
    "        print(f'Fuck...{song} ....is fucked up')\n",
    "print(f\"Ok, {good} songs work! but {bad} songs do not, FIX IT YOU FAT FUCK!\")        "
   ]
  },
  {
   "cell_type": "code",
   "execution_count": null,
   "metadata": {},
   "outputs": [],
   "source": []
  },
  {
   "cell_type": "code",
   "execution_count": null,
   "metadata": {},
   "outputs": [],
   "source": []
  }
 ],
 "metadata": {
  "kernelspec": {
   "display_name": "Python 3",
   "language": "python",
   "name": "python3"
  },
  "language_info": {
   "codemirror_mode": {
    "name": "ipython",
    "version": 3
   },
   "file_extension": ".py",
   "mimetype": "text/x-python",
   "name": "python",
   "nbconvert_exporter": "python",
   "pygments_lexer": "ipython3",
   "version": "3.7.3"
  }
 },
 "nbformat": 4,
 "nbformat_minor": 2
}
