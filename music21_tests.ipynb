{
 "cells": [
  {
   "cell_type": "code",
   "execution_count": 1,
   "metadata": {
    "scrolled": true
   },
   "outputs": [],
   "source": [
    "run src/midi_processing.py"
   ]
  },
  {
   "cell_type": "code",
   "execution_count": 2,
   "metadata": {},
   "outputs": [],
   "source": [
    "from itertools import islice"
   ]
  },
  {
   "cell_type": "code",
   "execution_count": 2,
   "metadata": {},
   "outputs": [],
   "source": [
    "oh = one_hot_song(corpus[67])\n",
    "song = converter.parse(corpus[67])"
   ]
  },
  {
   "cell_type": "code",
   "execution_count": 2,
   "metadata": {},
   "outputs": [],
   "source": [
    "def one_hot_to_midi(one_hot_song, instrument='Saxophone'):\n",
    "    #events = np.nonzero(one_hot_encoded_song)[0]\n",
    "    idxs = np.nonzero(one_hot_song)[1]\n",
    "    this_stream = stream.Stream()\n",
    "    part = stream.Part()\n",
    "    inst = instrument.Instrument(instrument)\n",
    "    temp = tempo.MetronomeMark('animato')\n",
    "    met = meter.TimeSignature()\n",
    "    this_stream.append(part)\n",
    "    part.append(inst)\n",
    "    part.append(temp)\n",
    "    part.append(met)\n",
    "    song_iter = iter(one_hot_song)\n",
    "    idx = 0\n",
    "    for val in song_iter:\n",
    "        if check_for_chord(one_hot_song, idx):\n",
    "            ch = chord.Chord([get_chord(one_hot_song, idx)], duration=)\n",
    "            part.append(ch)\n",
    "            step += get_note_count_from_chord(one_hot_song, idx)\n",
    "            idx += step+1\n",
    "            next(islice(song_iter,step,step+1))            \n",
    "        \n",
    "        \n",
    "        \n",
    "        \n",
    "        \n",
    "        \n",
    "        \n",
    "        \n",
    "        if 0 <= val <= 127:\n",
    "            if check_for_chord(one_hot_song, idx):\n",
    "                ch = chord.Chord([get_chord(one_hot_song, idx)])\n",
    "                part.append(ch)\n",
    "                step += get_note_count_from_chord(one_hot_song, idx)\n",
    "                idx += step+1\n",
    "                next(islice(song_iter,step,step+1))\n",
    "        if 128 <= val <= 255:\n",
    "            pass\n",
    "        if 256 <= val <= 356:\n",
    "            time_in_seconds = (val-255)/100\n",
    "            quarter_length = temp.secondsToDuration(time_in_seconds).quarterLength\n",
    "            if idx == 0: #if first element in array represents a time-shift, it is a rest\n",
    "                r = note.Rest(quarterLength=quarterLength)\n",
    "                part.append(r)\n",
    "            elif check_if_rest(one_hot_encoded_song, idx): #check if time shift represents rest\n",
    "                r = note.Rest(quarterLength=quarterLength)\n",
    "                part.append(r)\n",
    "            else: #add time shift to last note\n",
    "                note = part[idx-2]\n",
    "                \n",
    "        if 356 <= val <= 387:\n",
    "            note = part[idx-1]\n",
    "            note.volume.velocity = (val-355)*4-1"
   ]
  },
  {
   "cell_type": "code",
   "execution_count": 3,
   "metadata": {},
   "outputs": [],
   "source": []
  },
  {
   "cell_type": "code",
   "execution_count": 21,
   "metadata": {},
   "outputs": [],
   "source": [
    "def get_duration(one_hot_song, time_shift_index):\n",
    "    dur = 0.0\n",
    "    idx = time_shift_index \n",
    "    dur += ((np.nonzero(one_hot_song)[1][idx])-255)/100\n",
    "    while 256 <= check_next(one_hot_song, idx) <= 355:\n",
    "        val = np.nonzero(one_hot_song)[1][idx+1]\n",
    "        time_in_seconds = (val-255)/100\n",
    "        dur += time_in_seconds\n",
    "        idx += 1\n",
    "    return dur"
   ]
  },
  {
   "cell_type": "code",
   "execution_count": 20,
   "metadata": {},
   "outputs": [
    {
     "name": "stdout",
     "output_type": "stream",
     "text": [
      "1.0\n"
     ]
    },
    {
     "data": {
      "text/plain": [
       "3.0"
      ]
     },
     "execution_count": 20,
     "metadata": {},
     "output_type": "execute_result"
    }
   ],
   "source": [
    "get_duration(oh, 0)"
   ]
  },
  {
   "cell_type": "code",
   "execution_count": 9,
   "metadata": {},
   "outputs": [
    {
     "data": {
      "text/plain": [
       "355"
      ]
     },
     "execution_count": 9,
     "metadata": {},
     "output_type": "execute_result"
    }
   ],
   "source": [
    "np.nonzero(oh)[1][0]"
   ]
  },
  {
   "cell_type": "code",
   "execution_count": 18,
   "metadata": {},
   "outputs": [
    {
     "data": {
      "text/plain": [
       "355"
      ]
     },
     "execution_count": 18,
     "metadata": {},
     "output_type": "execute_result"
    }
   ],
   "source": [
    "check_next(oh,1)"
   ]
  },
  {
   "cell_type": "code",
   "execution_count": null,
   "metadata": {},
   "outputs": [],
   "source": []
  }
 ],
 "metadata": {
  "kernelspec": {
   "display_name": "Python 3",
   "language": "python",
   "name": "python3"
  },
  "language_info": {
   "codemirror_mode": {
    "name": "ipython",
    "version": 3
   },
   "file_extension": ".py",
   "mimetype": "text/x-python",
   "name": "python",
   "nbconvert_exporter": "python",
   "pygments_lexer": "ipython3",
   "version": "3.7.3"
  }
 },
 "nbformat": 4,
 "nbformat_minor": 2
}
