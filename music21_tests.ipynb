{
 "cells": [
  {
   "cell_type": "code",
   "execution_count": 10,
   "metadata": {
    "scrolled": true
   },
   "outputs": [],
   "source": [
    "run src/midi_processing.py"
   ]
  },
  {
   "cell_type": "code",
   "execution_count": 11,
   "metadata": {},
   "outputs": [],
   "source": [
    "oh = one_hot_song(corpus[67])\n",
    "song = converter.parse(corpus[67])\n",
    "this_oh = one_hot_song('data/leads_with_rests/Kygo_feat_Whitney_Houston_HigherLove.mid')\n",
    "events = np.nonzero(this_oh)[1]"
   ]
  },
  {
   "cell_type": "code",
   "execution_count": 12,
   "metadata": {},
   "outputs": [],
   "source": [
    "def one_hot_to_midi(one_hot_song, inst='Saxophone'):\n",
    "    #events = np.nonzero(one_hot_encoded_song)[0]\n",
    "    events = np.nonzero(one_hot_song)[1]\n",
    "    song_iter = enumerate(events) \n",
    "    this_stream = stream.Stream()\n",
    "    part = stream.Part()\n",
    "    inst = instrument.Instrument(inst)\n",
    "    temp = tempo.MetronomeMark('animato')\n",
    "    met = meter.TimeSignature('4/4')\n",
    "    this_stream.append(part)\n",
    "    part.append(inst)\n",
    "    part.append(temp)\n",
    "    part.append(met)\n",
    "    for idx, val in song_iter:\n",
    "        if idx == 0 and 256 <= val <= 355:\n",
    "            time, count = get_rest_duration(one_hot_song, idx)\n",
    "            dur = temp.secondsToDuration(time)\n",
    "            r = note.Rest(duration=dur)\n",
    "            part.append(r)\n",
    "            [next(song_iter) for _ in range(count-1)]\n",
    "        elif check_for_chord(one_hot_song, idx):\n",
    "            chord_length = get_note_count_chord(one_hot_song,idx)\n",
    "            vel_index = idx + chord_length\n",
    "            ts_index = vel_index + 1\n",
    "            time, count = get_rest_duration(one_hot_song, ts_index)\n",
    "            if time <= 0.0:\n",
    "                time = .04\n",
    "            dur = temp.secondsToDuration(time)\n",
    "            vel = (events[vel_index] - 355) * 4 - 1\n",
    "            chord_notes = get_chord(one_hot_song, idx)\n",
    "            ch = chord.Chord(duration=dur)\n",
    "            for num in chord_notes:\n",
    "                p = pitch.Pitch(num)\n",
    "                string = p.nameWithOctave\n",
    "                ch.add(string)                \n",
    "            ch.volume = volume.Volume(velocity=vel)\n",
    "            part.append(ch)\n",
    "            step = chord_length + count +2 #add two for duration and note off events\n",
    "            [next(song_iter) for _ in range(step)]\n",
    "        elif 256 <= val <= 387 and is_rest(one_hot_song, idx) and idx != 0:\n",
    "            time, count = get_rest_duration(one_hot_song, idx)\n",
    "            dur = temp.secondsToDuration(time)\n",
    "            r = note.Rest(duration=dur)\n",
    "            part.append(r)\n",
    "            [next(song_iter) for _ in range(count-1)]\n",
    "        else:\n",
    "            time, count = get_rest_duration(one_hot_song, idx+2)\n",
    "            vel = (events[idx+1] - 355) * 4 - 1\n",
    "            dur = temp.secondsToDuration(time)\n",
    "            n = note.Note(val,duration=dur)\n",
    "            n.volume.velocity = vel\n",
    "            part.append(n)\n",
    "            [next(song_iter) for _ in range(count + 2)] #add one for note off event\n",
    "    return this_stream"
   ]
  },
  {
   "cell_type": "code",
   "execution_count": 13,
   "metadata": {
    "scrolled": true
   },
   "outputs": [],
   "source": [
    "fuck_you = one_hot_to_midi(this_oh)"
   ]
  },
  {
   "cell_type": "code",
   "execution_count": 14,
   "metadata": {},
   "outputs": [],
   "source": [
    "mf = midi.translate.streamToMidiFile(fuck_you)\n",
    "mf.open('data/rencoded/test.mid', 'wb')\n",
    "mf.write()\n",
    "mf.close()"
   ]
  }
 ],
 "metadata": {
  "kernelspec": {
   "display_name": "Python 3",
   "language": "python",
   "name": "python3"
  },
  "language_info": {
   "codemirror_mode": {
    "name": "ipython",
    "version": 3
   },
   "file_extension": ".py",
   "mimetype": "text/x-python",
   "name": "python",
   "nbconvert_exporter": "python",
   "pygments_lexer": "ipython3",
   "version": "3.7.3"
  }
 },
 "nbformat": 4,
 "nbformat_minor": 2
}
