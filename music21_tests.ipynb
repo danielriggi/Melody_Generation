{
 "cells": [
  {
   "cell_type": "code",
   "execution_count": 1,
   "metadata": {
    "scrolled": true
   },
   "outputs": [],
   "source": [
    "run src/midi_processing.py"
   ]
  },
  {
   "cell_type": "code",
   "execution_count": 2,
   "metadata": {},
   "outputs": [],
   "source": [
    "def one_hot_song(midi):\n",
    "    song = converter.parse(midi)\n",
    "    seconds_map = song.flat.getElementsByClass(['Note', 'Rest', 'Chord']).secondsMap\n",
    "    one_hot_list = []\n",
    "    for note in seconds_map:\n",
    "        note_length = round(note['durationSeconds'],3)\n",
    "        note_type = note['element']\n",
    "        if note_type.isRest:\n",
    "            if note_length > 3.5: #check if time shift is greater than three and a half seconds \n",
    "                note_length = 3.0\n",
    "            while note_length > 0.0:\n",
    "                if note_length <= 1.0: #if note length is greater than the maximum encodable time shift\n",
    "                    one_hot_list.append(one_hot_time(note_length))\n",
    "                    note_length = 0.0\n",
    "                elif note_length > 1.0:\n",
    "                    one_hot_list.append(one_hot_time(1.0))\n",
    "                    note_length -= 1.0\n",
    "                \n",
    "                    \n",
    "        elif note_type.isChord: #check if element is a chord\n",
    "            vel = get_vel_from_chord(note_type)\n",
    "            note_lst = get_notes_from_chord(note_type) #if element is a chord, get all notes\n",
    "            for note in note_lst: #one hot each note-on in the chord\n",
    "                one_hot_list.append(one_hot_note_on(note)) \n",
    "            one_hot_list.append(one_hot_vel(vel)) #one hot velocity\n",
    "            while note_length > 0.0:\n",
    "                if note_length <= 1.0: #if note length is greater than the maximum encodable time shift\n",
    "                    one_hot_list.append(one_hot_time(note_length))\n",
    "                    note_length = 0.0\n",
    "                elif note_length > 1.0:\n",
    "                    one_hot_list.append(one_hot_time(1.0))\n",
    "                    note_length -= 1.0            \n",
    "            for note in note_lst:\n",
    "                one_hot_list.append(one_hot_note_off(note)) #turn off each note in chord\n",
    "\n",
    "        else:\n",
    "            vel = note_type.volume.velocity #get velocity from note\n",
    "            pitch = get_pitch_from_note(note['element'])\n",
    "            one_hot_list.append(one_hot_note_on(pitch)) #one hot note-on\n",
    "            one_hot_list.append(one_hot_vel(vel))\n",
    "            if note_length <= 1.0: #if note length is greater than the maximum encodable time shift\n",
    "                    one_hot_list.append(one_hot_time(note_length))\n",
    "                    note_length = 0.0\n",
    "            elif note_length > 1.0:\n",
    "                    one_hot_list.append(one_hot_time(1.0))\n",
    "                    note_length -= 1.0 \n",
    "            one_hot_list.append(one_hot_note_off(pitch))  \n",
    "    return one_hot_list"
   ]
  }
 ],
 "metadata": {
  "kernelspec": {
   "display_name": "Python 3",
   "language": "python",
   "name": "python3"
  },
  "language_info": {
   "codemirror_mode": {
    "name": "ipython",
    "version": 3
   },
   "file_extension": ".py",
   "mimetype": "text/x-python",
   "name": "python",
   "nbconvert_exporter": "python",
   "pygments_lexer": "ipython3",
   "version": "3.7.3"
  }
 },
 "nbformat": 4,
 "nbformat_minor": 2
}
