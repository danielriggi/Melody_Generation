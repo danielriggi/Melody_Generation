{
 "cells": [
  {
   "cell_type": "code",
   "execution_count": 5,
   "metadata": {
    "scrolled": true
   },
   "outputs": [],
   "source": [
    "run src/midi_processing.py"
   ]
  },
  {
   "cell_type": "code",
   "execution_count": 6,
   "metadata": {},
   "outputs": [],
   "source": [
    "run src/model.py"
   ]
  },
  {
   "cell_type": "code",
   "execution_count": 7,
   "metadata": {},
   "outputs": [],
   "source": [
    "mod = load_model('data/model_60.h5')"
   ]
  },
  {
   "cell_type": "code",
   "execution_count": 8,
   "metadata": {},
   "outputs": [],
   "source": [
    "uniq = np.unique(X)"
   ]
  },
  {
   "cell_type": "code",
   "execution_count": 9,
   "metadata": {},
   "outputs": [],
   "source": [
    "gen = generate_from_random(uniq)"
   ]
  },
  {
   "cell_type": "code",
   "execution_count": 10,
   "metadata": {
    "scrolled": true
   },
   "outputs": [
    {
     "name": "stdout",
     "output_type": "stream",
     "text": [
      "600 didn't work\n",
      "601 didn't work\n",
      "602 didn't work\n",
      "603 worked!\n"
     ]
    }
   ],
   "source": [
    "for i in range(600, 610):\n",
    "    lst = generate_notes(gen, mod, length=i)\n",
    "    try:       \n",
    "        s = one_hot_to_midi(lst)\n",
    "        print(f\"{i} worked!\")\n",
    "        for note in s[0].notes:\n",
    "            note.octave = 5\n",
    "        mf = midi.translate.streamToMidiFile(s)\n",
    "        mf.open('data/song.mid', 'wb')\n",
    "        mf.write()\n",
    "        mf.close()\n",
    "        break\n",
    "    except:\n",
    "        print(f\"{i} didn't work\")"
   ]
  },
  {
   "cell_type": "code",
   "execution_count": 14,
   "metadata": {},
   "outputs": [],
   "source": [
    "for note in s[0].notes:\n",
    "    note.octave = 5"
   ]
  },
  {
   "cell_type": "code",
   "execution_count": 15,
   "metadata": {},
   "outputs": [],
   "source": [
    "mf = midi.translate.streamToMidiFile(s)\n",
    "mf.open('data/song60.mid', 'wb')\n",
    "mf.write()\n",
    "mf.close()"
   ]
  },
  {
   "cell_type": "code",
   "execution_count": 16,
   "metadata": {},
   "outputs": [
    {
     "name": "stdout",
     "output_type": "stream",
     "text": [
      "{0.0} <music21.stream.Part 0x7fdda03c1240>\n",
      "    {0.0} <music21.instrument.Instrument 'Saxophone'>\n",
      "    {0.0} <music21.tempo.MetronomeMark animato Quarter=120>\n",
      "    {0.0} <music21.meter.TimeSignature 4/4>\n",
      "    {0.0} <music21.note.Note E->\n",
      "    {0.84} <music21.note.Note C>\n",
      "    {0.94} <music21.note.Note E->\n",
      "    {3.42} <music21.note.Note D>\n",
      "    {6.06} <music21.note.Note C>\n",
      "    {6.16} <music21.note.Note E>\n",
      "    {10.26} <music21.note.Note E>\n",
      "    {10.78} <music21.note.Note B>\n",
      "    {14.32} <music21.note.Note E->\n",
      "    {15.48} <music21.note.Note A>\n",
      "    {15.6} <music21.note.Note C>\n",
      "    {15.7} <music21.note.Note G#>\n",
      "    {16.86} <music21.note.Note G#>\n",
      "    {16.88} <music21.note.Note F#>\n",
      "    {17.12} <music21.note.Note E>\n",
      "    {17.22} <music21.note.Note E->\n",
      "    {19.56} <music21.note.Note E->\n",
      "    {19.66} <music21.note.Note C>\n",
      "    {19.76} <music21.note.Note D>\n",
      "    {19.86} <music21.note.Note B>\n",
      "    {22.5} <music21.note.Note B>\n",
      "    {24.96} <music21.note.Note B>\n",
      "    {27.42} <music21.note.Note D>\n",
      "    {31.46} <music21.note.Note C>\n",
      "    {33.26} <music21.note.Note A>\n",
      "    {35.9} <music21.note.Note G#>\n",
      "    {36.0} <music21.note.Note G#>\n",
      "    {37.96} <music21.note.Note F>\n",
      "    {42.68} <music21.note.Note C#>\n",
      "    {42.78} <music21.note.Note E->\n",
      "    {43.52} <music21.note.Note E->\n",
      "    {43.62} <music21.note.Note A>\n",
      "    {44.38} <music21.note.Note E->\n",
      "    {47.24} <music21.note.Note E->\n",
      "    {47.46} <music21.note.Note F>\n",
      "    {49.52} <music21.note.Rest rest>\n",
      "    {49.7} <music21.note.Note E->\n",
      "    {49.8} <music21.note.Note G>\n",
      "    {49.88} <music21.note.Rest rest>\n",
      "    {50.04} <music21.note.Note B->\n",
      "    {52.68} <music21.note.Note B>\n",
      "    {57.56} <music21.note.Rest rest>\n",
      "    {59.52} <music21.note.Note C#>\n",
      "    {59.62} <music21.note.Note E->\n",
      "    {61.86} <music21.note.Note E->\n",
      "    {61.96} <music21.note.Rest rest>\n",
      "    {64.54} <music21.note.Note E->\n",
      "    {64.64} <music21.note.Note E->\n",
      "    {68.98} <music21.note.Note G>\n",
      "    {71.24} <music21.note.Note C#>\n",
      "    {73.88} <music21.note.Note F>\n",
      "    {76.52} <music21.note.Note E->\n",
      "    {79.16} <music21.note.Note E->\n",
      "    {81.8} <music21.note.Note E->\n",
      "    {84.44} <music21.note.Note E->\n",
      "    {87.08} <music21.note.Note C>\n",
      "    {87.18} <music21.note.Note C#>\n",
      "    {89.16} <music21.note.Rest rest>\n",
      "    {89.24} <music21.note.Note D>\n",
      "    {90.88} <music21.note.Rest rest>\n",
      "    {92.3} <music21.note.Note E>\n",
      "    {92.4} <music21.note.Note A>\n",
      "    {94.98} <music21.note.Note C#>\n",
      "    {97.36} <music21.note.Note E->\n",
      "    {100.0} <music21.note.Note E->\n",
      "    {102.64} <music21.note.Note E->\n",
      "    {105.28} <music21.note.Note E->\n",
      "    {107.92} <music21.note.Note E->\n",
      "    {111.08} <music21.note.Note C#>\n",
      "    {113.8} <music21.note.Note A>\n",
      "    {113.9} <music21.note.Note E->\n",
      "    {114.0} <music21.note.Note D>\n",
      "    {116.1} <music21.note.Note E->\n",
      "    {118.88} <music21.note.Note B>\n",
      "    {121.82} <music21.note.Note D>\n",
      "    {122.58} <music21.note.Note D>\n",
      "    {122.68} <music21.note.Note D>\n",
      "    {122.78} <music21.note.Note B>\n",
      "    {122.88} <music21.note.Note G#>\n",
      "    {125.52} <music21.note.Rest rest>\n",
      "    {129.06} <music21.note.Note F#>\n",
      "    {130.44} <music21.note.Note B>\n",
      "    {132.18} <music21.note.Note E->\n",
      "    {137.68} <music21.note.Note B->\n",
      "    {139.62} <music21.note.Note B>\n",
      "    {139.72} <music21.note.Note F#>\n",
      "    {142.24} <music21.note.Note B>\n",
      "    {145.58} <music21.note.Note F#>\n",
      "    {146.98} <music21.note.Note E>\n",
      "    {147.08} <music21.note.Note G>\n",
      "    {147.18} <music21.note.Note B>\n",
      "    {147.28} <music21.note.Note E->\n",
      "    {147.38} <music21.note.Note E->\n",
      "    {147.48} <music21.note.Note E->\n",
      "    {149.18} <music21.note.Note D>\n",
      "    {151.22} <music21.note.Note E->\n",
      "    {153.5} <music21.note.Note G>\n",
      "    {153.6} <music21.note.Note E->\n",
      "    {154.78} <music21.note.Note C#>\n",
      "    {157.08} <music21.note.Note E->\n",
      "    {157.18} <music21.note.Note C#>\n",
      "    {158.54} <music21.note.Note C>\n",
      "    {158.64} <music21.note.Note G>\n",
      "    {160.74} <music21.note.Rest rest>\n",
      "    {163.08} <music21.note.Note C>\n",
      "    {165.66} <music21.note.Note A>\n",
      "    {165.76} <music21.note.Note C>\n",
      "    {168.88} <music21.note.Note B>\n",
      "    {171.52} <music21.note.Note D>\n",
      "    {174.26} <music21.note.Note B->\n",
      "    {175.1} <music21.note.Rest rest>\n",
      "    {177.32} <music21.note.Note C>\n",
      "    {177.42} <music21.note.Note E>\n",
      "    {178.02} <music21.note.Note F#>\n",
      "    {179.14} <music21.note.Note E->\n",
      "    {181.3} <music21.note.Rest rest>\n",
      "    {185.8} <music21.note.Note A>\n",
      "    {185.9} <music21.note.Note B->\n",
      "    {187.62} <music21.note.Note C#>\n",
      "    {187.72} <music21.note.Note E->\n",
      "    {191.18} <music21.note.Rest rest>\n",
      "    {193.0} <music21.note.Note F>\n",
      "    {193.1} <music21.note.Note E->\n",
      "    {195.2} <music21.note.Note F#>\n",
      "    {195.3} <music21.note.Note C#>\n",
      "    {197.94} <music21.note.Note C#>\n",
      "    {200.0} <music21.note.Note F#>\n",
      "    {201.62} <music21.note.Note C>\n",
      "    {201.72} <music21.note.Note C>\n",
      "    {202.7} <music21.note.Note E->\n",
      "    {202.8} <music21.note.Note E>\n",
      "    {204.72} <music21.note.Note E->\n",
      "    {204.82} <music21.note.Note D>\n",
      "    {207.28} <music21.note.Note E->\n",
      "    {210.76} <music21.note.Note F>\n",
      "    {211.3} <music21.note.Note F>\n",
      "    {217.02} <music21.note.Note B->\n",
      "    {219.66} <music21.note.Note E->\n",
      "    {220.58} <music21.note.Note C>\n",
      "    {225.12} <music21.note.Note A>\n",
      "    {227.76} <music21.note.Note E->\n",
      "    {229.64} <music21.note.Note E->\n",
      "    {232.28} <music21.note.Note C#>\n",
      "    {233.18} <music21.note.Note C#>\n",
      "    {233.28} <music21.note.Rest rest>\n",
      "    {234.32} <music21.note.Note C>\n",
      "    {237.6} <music21.note.Note C>\n"
     ]
    }
   ],
   "source": [
    "s.show('text')"
   ]
  },
  {
   "cell_type": "code",
   "execution_count": null,
   "metadata": {},
   "outputs": [],
   "source": []
  }
 ],
 "metadata": {
  "kernelspec": {
   "display_name": "Python 3",
   "language": "python",
   "name": "python3"
  },
  "language_info": {
   "codemirror_mode": {
    "name": "ipython",
    "version": 3
   },
   "file_extension": ".py",
   "mimetype": "text/x-python",
   "name": "python",
   "nbconvert_exporter": "python",
   "pygments_lexer": "ipython3",
   "version": "3.7.3"
  }
 },
 "nbformat": 4,
 "nbformat_minor": 2
}
