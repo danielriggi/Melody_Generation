{
 "cells": [
  {
   "cell_type": "code",
   "execution_count": 25,
   "metadata": {},
   "outputs": [],
   "source": [
    "run src/midi_processing.py "
   ]
  },
  {
   "cell_type": "code",
   "execution_count": 26,
   "metadata": {},
   "outputs": [],
   "source": [
    "lst = get_list_pretty_mid('data/leads/*.mid')"
   ]
  },
  {
   "cell_type": "code",
   "execution_count": 27,
   "metadata": {},
   "outputs": [],
   "source": [
    "corp = get_psuedo_notes_corpus(lst)"
   ]
  },
  {
   "cell_type": "code",
   "execution_count": 28,
   "metadata": {},
   "outputs": [],
   "source": [
    "labels =  make_labels(corp)"
   ]
  },
  {
   "cell_type": "code",
   "execution_count": 29,
   "metadata": {},
   "outputs": [],
   "source": [
    "vocab = len(labels)"
   ]
  },
  {
   "cell_type": "code",
   "execution_count": 30,
   "metadata": {},
   "outputs": [],
   "source": [
    "io = prepare_seq(corp, vocab)"
   ]
  },
  {
   "cell_type": "code",
   "execution_count": 31,
   "metadata": {},
   "outputs": [],
   "source": [
    "x = io[0]"
   ]
  },
  {
   "cell_type": "code",
   "execution_count": 32,
   "metadata": {},
   "outputs": [
    {
     "data": {
      "text/plain": [
       "(13239, 32, 1)"
      ]
     },
     "execution_count": 32,
     "metadata": {},
     "output_type": "execute_result"
    }
   ],
   "source": [
    "x.shape"
   ]
  },
  {
   "cell_type": "code",
   "execution_count": 33,
   "metadata": {},
   "outputs": [],
   "source": [
    "y = io[1]"
   ]
  },
  {
   "cell_type": "code",
   "execution_count": 34,
   "metadata": {},
   "outputs": [
    {
     "data": {
      "text/plain": [
       "(13239, 856)"
      ]
     },
     "execution_count": 34,
     "metadata": {},
     "output_type": "execute_result"
    }
   ],
   "source": [
    "y.shape"
   ]
  },
  {
   "cell_type": "code",
   "execution_count": 35,
   "metadata": {},
   "outputs": [],
   "source": [
    "model = create_model(x, vocab)"
   ]
  },
  {
   "cell_type": "code",
   "execution_count": 36,
   "metadata": {
    "scrolled": true
   },
   "outputs": [
    {
     "name": "stdout",
     "output_type": "stream",
     "text": [
      "Train on 13239 samples\n",
      "Epoch 1/95\n",
      "13239/13239 [==============================] - 388s 29ms/sample - loss: 6.0716\n",
      "Epoch 2/95\n",
      "13239/13239 [==============================] - 377s 28ms/sample - loss: 5.8306\n",
      "Epoch 3/95\n",
      "13239/13239 [==============================] - 377s 28ms/sample - loss: 5.6037\n",
      "Epoch 4/95\n",
      "13239/13239 [==============================] - 377s 28ms/sample - loss: 5.3569\n",
      "Epoch 5/95\n",
      "13239/13239 [==============================] - 377s 28ms/sample - loss: 5.1280\n",
      "Epoch 6/95\n",
      "13239/13239 [==============================] - 377s 28ms/sample - loss: 4.8068\n",
      "Epoch 7/95\n",
      "13239/13239 [==============================] - 377s 28ms/sample - loss: 4.5200\n",
      "Epoch 8/95\n",
      "13239/13239 [==============================] - 377s 28ms/sample - loss: 4.2490\n",
      "Epoch 9/95\n",
      "13239/13239 [==============================] - 377s 28ms/sample - loss: 4.0715\n",
      "Epoch 10/95\n",
      "13239/13239 [==============================] - 376s 28ms/sample - loss: 3.8688\n",
      "Epoch 11/95\n",
      "13239/13239 [==============================] - 377s 28ms/sample - loss: 3.6367\n",
      "Epoch 12/95\n",
      "13239/13239 [==============================] - 377s 28ms/sample - loss: 3.4213\n",
      "Epoch 13/95\n",
      "13239/13239 [==============================] - 377s 28ms/sample - loss: 3.2082\n",
      "Epoch 14/95\n",
      "13239/13239 [==============================] - 376s 28ms/sample - loss: 3.0087\n",
      "Epoch 15/95\n",
      "13239/13239 [==============================] - 377s 28ms/sample - loss: 2.8293\n",
      "Epoch 16/95\n",
      "13239/13239 [==============================] - 377s 28ms/sample - loss: 2.6218\n",
      "Epoch 17/95\n",
      "13239/13239 [==============================] - 377s 28ms/sample - loss: 2.4541\n",
      "Epoch 18/95\n",
      "13239/13239 [==============================] - 382s 29ms/sample - loss: 2.2597\n",
      "Epoch 19/95\n",
      "13239/13239 [==============================] - 378s 29ms/sample - loss: 2.0901\n",
      "Epoch 20/95\n",
      "13239/13239 [==============================] - 376s 28ms/sample - loss: 1.9201\n",
      "Epoch 21/95\n",
      "13239/13239 [==============================] - 376s 28ms/sample - loss: 1.7641\n",
      "Epoch 22/95\n",
      "13239/13239 [==============================] - 376s 28ms/sample - loss: 1.6110\n",
      "Epoch 23/95\n",
      "13239/13239 [==============================] - 376s 28ms/sample - loss: 1.5411\n",
      "Epoch 24/95\n",
      "13239/13239 [==============================] - 376s 28ms/sample - loss: 1.4263\n",
      "Epoch 25/95\n",
      "13239/13239 [==============================] - 376s 28ms/sample - loss: 1.2327\n",
      "Epoch 26/95\n",
      "13239/13239 [==============================] - 376s 28ms/sample - loss: 1.1837\n",
      "Epoch 27/95\n",
      "13239/13239 [==============================] - 376s 28ms/sample - loss: 1.0342\n",
      "Epoch 28/95\n",
      "13239/13239 [==============================] - 377s 28ms/sample - loss: 0.9253\n",
      "Epoch 29/95\n",
      "13239/13239 [==============================] - 379s 29ms/sample - loss: 0.8528\n",
      "Epoch 30/95\n",
      "13239/13239 [==============================] - 376s 28ms/sample - loss: 0.7689\n",
      "Epoch 31/95\n",
      "13239/13239 [==============================] - 376s 28ms/sample - loss: 0.7034\n",
      "Epoch 32/95\n",
      "13239/13239 [==============================] - 376s 28ms/sample - loss: 0.6494\n",
      "Epoch 33/95\n",
      "13239/13239 [==============================] - 376s 28ms/sample - loss: 0.5975\n",
      "Epoch 34/95\n",
      "13239/13239 [==============================] - 376s 28ms/sample - loss: 0.5489\n",
      "Epoch 35/95\n",
      "13239/13239 [==============================] - 376s 28ms/sample - loss: 0.5019\n",
      "Epoch 36/95\n",
      "13239/13239 [==============================] - 376s 28ms/sample - loss: 0.4693\n",
      "Epoch 37/95\n",
      "13239/13239 [==============================] - 376s 28ms/sample - loss: 0.4644\n",
      "Epoch 38/95\n",
      "13239/13239 [==============================] - 376s 28ms/sample - loss: 0.4369\n",
      "Epoch 39/95\n",
      "13239/13239 [==============================] - 376s 28ms/sample - loss: 0.4007\n",
      "Epoch 40/95\n",
      "13239/13239 [==============================] - 376s 28ms/sample - loss: 0.3754\n",
      "Epoch 41/95\n",
      "13239/13239 [==============================] - 376s 28ms/sample - loss: 0.3651\n",
      "Epoch 42/95\n",
      "13239/13239 [==============================] - 376s 28ms/sample - loss: 0.3379\n",
      "Epoch 43/95\n",
      "13239/13239 [==============================] - 376s 28ms/sample - loss: 0.3313\n",
      "Epoch 44/95\n",
      "13239/13239 [==============================] - 376s 28ms/sample - loss: 0.3104\n",
      "Epoch 45/95\n",
      "13239/13239 [==============================] - 376s 28ms/sample - loss: 0.3042\n",
      "Epoch 46/95\n",
      "13239/13239 [==============================] - 376s 28ms/sample - loss: 0.2877\n",
      "Epoch 47/95\n",
      "13239/13239 [==============================] - 376s 28ms/sample - loss: 0.2908\n",
      "Epoch 48/95\n",
      "13239/13239 [==============================] - 376s 28ms/sample - loss: 0.2787\n",
      "Epoch 49/95\n",
      "13239/13239 [==============================] - 376s 28ms/sample - loss: 0.2716\n",
      "Epoch 50/95\n",
      "13239/13239 [==============================] - 376s 28ms/sample - loss: 0.2630\n",
      "Epoch 51/95\n",
      "13239/13239 [==============================] - 376s 28ms/sample - loss: 0.2645\n",
      "Epoch 52/95\n",
      "13239/13239 [==============================] - 376s 28ms/sample - loss: 0.2505\n",
      "Epoch 53/95\n",
      "13239/13239 [==============================] - 376s 28ms/sample - loss: 0.2488\n",
      "Epoch 54/95\n",
      "13239/13239 [==============================] - 376s 28ms/sample - loss: 0.2388\n",
      "Epoch 55/95\n",
      "13239/13239 [==============================] - 376s 28ms/sample - loss: 0.2289\n",
      "Epoch 56/95\n",
      "13239/13239 [==============================] - 379s 29ms/sample - loss: 0.2285\n",
      "Epoch 57/95\n",
      "13239/13239 [==============================] - 376s 28ms/sample - loss: 0.2262\n",
      "Epoch 58/95\n",
      "13239/13239 [==============================] - 376s 28ms/sample - loss: 0.2159\n",
      "Epoch 59/95\n",
      "13239/13239 [==============================] - 376s 28ms/sample - loss: 0.2202\n",
      "Epoch 60/95\n",
      "13239/13239 [==============================] - 376s 28ms/sample - loss: 0.2103\n",
      "Epoch 61/95\n",
      "13239/13239 [==============================] - 376s 28ms/sample - loss: 0.2047\n",
      "Epoch 62/95\n",
      "13239/13239 [==============================] - 376s 28ms/sample - loss: 0.2089\n",
      "Epoch 63/95\n",
      "13239/13239 [==============================] - 376s 28ms/sample - loss: 0.2045\n",
      "Epoch 64/95\n",
      "13239/13239 [==============================] - 376s 28ms/sample - loss: 0.1955\n",
      "Epoch 65/95\n",
      "13239/13239 [==============================] - 376s 28ms/sample - loss: 0.1921\n",
      "Epoch 66/95\n",
      "13239/13239 [==============================] - 376s 28ms/sample - loss: 0.2012\n",
      "Epoch 67/95\n",
      "13239/13239 [==============================] - 376s 28ms/sample - loss: 0.2162\n",
      "Epoch 68/95\n",
      "13239/13239 [==============================] - 376s 28ms/sample - loss: 0.1980\n",
      "Epoch 69/95\n",
      "13239/13239 [==============================] - 376s 28ms/sample - loss: 0.1867\n",
      "Epoch 70/95\n",
      "13239/13239 [==============================] - 376s 28ms/sample - loss: 0.1794\n",
      "Epoch 71/95\n",
      "13239/13239 [==============================] - 376s 28ms/sample - loss: 0.1890\n",
      "Epoch 72/95\n",
      "13239/13239 [==============================] - 376s 28ms/sample - loss: 0.1833\n",
      "Epoch 73/95\n",
      "13239/13239 [==============================] - 376s 28ms/sample - loss: 0.1773\n",
      "Epoch 74/95\n",
      "13239/13239 [==============================] - 376s 28ms/sample - loss: 0.1813\n",
      "Epoch 75/95\n",
      "13239/13239 [==============================] - 376s 28ms/sample - loss: 0.1731\n",
      "Epoch 76/95\n",
      "13239/13239 [==============================] - 377s 28ms/sample - loss: 0.1719\n",
      "Epoch 77/95\n",
      "13239/13239 [==============================] - 376s 28ms/sample - loss: 0.1687\n",
      "Epoch 78/95\n",
      "13239/13239 [==============================] - 376s 28ms/sample - loss: 0.1655\n",
      "Epoch 79/95\n",
      "13239/13239 [==============================] - 376s 28ms/sample - loss: 0.1654\n",
      "Epoch 80/95\n",
      "13239/13239 [==============================] - 376s 28ms/sample - loss: 0.1576\n",
      "Epoch 81/95\n",
      "13239/13239 [==============================] - 376s 28ms/sample - loss: 0.1654\n",
      "Epoch 82/95\n",
      "13239/13239 [==============================] - 376s 28ms/sample - loss: 0.1623\n",
      "Epoch 83/95\n",
      "13239/13239 [==============================] - 376s 28ms/sample - loss: 0.1613\n",
      "Epoch 84/95\n",
      "13239/13239 [==============================] - 376s 28ms/sample - loss: 0.1592\n",
      "Epoch 85/95\n",
      "13239/13239 [==============================] - 376s 28ms/sample - loss: 0.1588\n",
      "Epoch 86/95\n",
      "13239/13239 [==============================] - 376s 28ms/sample - loss: 0.1583\n",
      "Epoch 87/95\n",
      "13239/13239 [==============================] - 376s 28ms/sample - loss: 0.1589\n",
      "Epoch 88/95\n",
      "13239/13239 [==============================] - 376s 28ms/sample - loss: 0.1533\n",
      "Epoch 89/95\n",
      "13239/13239 [==============================] - 377s 28ms/sample - loss: 0.1542\n",
      "Epoch 90/95\n"
     ]
    },
    {
     "name": "stdout",
     "output_type": "stream",
     "text": [
      "13239/13239 [==============================] - 388s 29ms/sample - loss: 0.1495\n",
      "Epoch 91/95\n",
      "13239/13239 [==============================] - 377s 28ms/sample - loss: 0.1452\n",
      "Epoch 92/95\n",
      "13239/13239 [==============================] - 393s 30ms/sample - loss: 0.1484\n",
      "Epoch 93/95\n",
      "13239/13239 [==============================] - 412s 31ms/sample - loss: 0.1464\n",
      "Epoch 94/95\n",
      "13239/13239 [==============================] - 407s 31ms/sample - loss: 0.1509\n",
      "Epoch 95/95\n",
      "13239/13239 [==============================] - 404s 30ms/sample - loss: 0.1413\n"
     ]
    }
   ],
   "source": [
    "train(x,y,model)"
   ]
  },
  {
   "cell_type": "code",
   "execution_count": 37,
   "metadata": {},
   "outputs": [],
   "source": [
    "import os"
   ]
  },
  {
   "cell_type": "code",
   "execution_count": 38,
   "metadata": {},
   "outputs": [
    {
     "ename": "TypeError",
     "evalue": "'module' object is not callable",
     "output_type": "error",
     "traceback": [
      "\u001b[0;31m---------------------------------------------------------------------------\u001b[0m",
      "\u001b[0;31mTypeError\u001b[0m                                 Traceback (most recent call last)",
      "\u001b[0;32m<ipython-input-38-3d4eb5cd98cb>\u001b[0m in \u001b[0;36m<module>\u001b[0;34m\u001b[0m\n\u001b[0;32m----> 1\u001b[0;31m \u001b[0mmodel_path\u001b[0m \u001b[0;34m=\u001b[0m \u001b[0mos\u001b[0m\u001b[0;34m.\u001b[0m\u001b[0mpath\u001b[0m\u001b[0;34m(\u001b[0m\u001b[0;34m'data/LSTM.h5'\u001b[0m\u001b[0;34m)\u001b[0m\u001b[0;34m\u001b[0m\u001b[0;34m\u001b[0m\u001b[0m\n\u001b[0m",
      "\u001b[0;31mTypeError\u001b[0m: 'module' object is not callable"
     ]
    }
   ],
   "source": [
    "model_path = os.path('data/LSTM.h5')"
   ]
  },
  {
   "cell_type": "code",
   "execution_count": 39,
   "metadata": {},
   "outputs": [],
   "source": [
    "model.save('data/LSTM.h5')"
   ]
  },
  {
   "cell_type": "code",
   "execution_count": null,
   "metadata": {},
   "outputs": [],
   "source": []
  }
 ],
 "metadata": {
  "kernelspec": {
   "display_name": "Python 3",
   "language": "python",
   "name": "python3"
  },
  "language_info": {
   "codemirror_mode": {
    "name": "ipython",
    "version": 3
   },
   "file_extension": ".py",
   "mimetype": "text/x-python",
   "name": "python",
   "nbconvert_exporter": "python",
   "pygments_lexer": "ipython3",
   "version": "3.7.3"
  }
 },
 "nbformat": 4,
 "nbformat_minor": 2
}
