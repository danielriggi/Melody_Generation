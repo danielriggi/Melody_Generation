{
 "cells": [
  {
   "cell_type": "code",
   "execution_count": 1,
   "metadata": {},
   "outputs": [],
   "source": [
    "from music21 import *"
   ]
  },
  {
   "cell_type": "code",
   "execution_count": 2,
   "metadata": {},
   "outputs": [],
   "source": [
    "this_stream = stream.Stream()\n",
    "part = stream.Part()\n",
    "inst = instrument.Instrument('Saxophone')\n",
    "temp = tempo.MetronomeMark('animato')\n",
    "met = meter.TimeSignature()\n",
    "this_stream.append(part)\n",
    "part.append(inst)\n",
    "part.append(temp)\n",
    "part.append(met)"
   ]
  },
  {
   "cell_type": "code",
   "execution_count": 7,
   "metadata": {},
   "outputs": [
    {
     "data": {
      "text/plain": [
       "<music21.duration.Duration 0.5>"
      ]
     },
     "execution_count": 7,
     "metadata": {},
     "output_type": "execute_result"
    }
   ],
   "source": [
    "this_stream[0][5].duration"
   ]
  },
  {
   "cell_type": "code",
   "execution_count": 14,
   "metadata": {},
   "outputs": [],
   "source": [
    "for thing in range(5):\n",
    "    quarter_length = temp.secondsToDuration(.25).quarterLength\n",
    "    dur = duration.Duration(quarter_length)\n",
    "    x = [55,56,57]\n",
    "    ch = chord.Chord(x,duration=dur)\n",
    "    part.append(ch)"
   ]
  },
  {
   "cell_type": "code",
   "execution_count": 15,
   "metadata": {},
   "outputs": [
    {
     "name": "stdout",
     "output_type": "stream",
     "text": [
      "{0.0} <music21.stream.Part 0x7f0113892b38>\n",
      "    {0.0} <music21.instrument.Instrument 'Saxophone'>\n",
      "    {0.0} <music21.tempo.MetronomeMark animato Quarter=120>\n",
      "    {0.0} <music21.meter.TimeSignature 4/4>\n",
      "    {0.0} <music21.note.Rest rest>\n",
      "    {0.5} <music21.note.Rest rest>\n",
      "    {1.0} <music21.note.Rest rest>\n",
      "    {1.5} <music21.note.Rest rest>\n",
      "    {2.0} <music21.note.Rest rest>\n",
      "    {2.5} <music21.note.Note C>\n",
      "    {3.0} <music21.note.Note C>\n",
      "    {3.5} <music21.note.Note C>\n",
      "    {4.0} <music21.note.Note C>\n",
      "    {4.5} <music21.note.Note C>\n",
      "    {5.0} <music21.chord.Chord G3 G#3 A3>\n",
      "    {5.5} <music21.chord.Chord G3 G#3 A3>\n",
      "    {6.0} <music21.chord.Chord G3 G#3 A3>\n",
      "    {6.5} <music21.chord.Chord G3 G#3 A3>\n",
      "    {7.0} <music21.chord.Chord G3 G#3 A3>\n"
     ]
    }
   ],
   "source": [
    "this_stream.show('text')"
   ]
  },
  {
   "cell_type": "code",
   "execution_count": null,
   "metadata": {},
   "outputs": [],
   "source": []
  }
 ],
 "metadata": {
  "kernelspec": {
   "display_name": "Python 3",
   "language": "python",
   "name": "python3"
  },
  "language_info": {
   "codemirror_mode": {
    "name": "ipython",
    "version": 3
   },
   "file_extension": ".py",
   "mimetype": "text/x-python",
   "name": "python",
   "nbconvert_exporter": "python",
   "pygments_lexer": "ipython3",
   "version": "3.7.3"
  }
 },
 "nbformat": 4,
 "nbformat_minor": 2
}
