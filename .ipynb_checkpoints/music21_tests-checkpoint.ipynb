{
 "cells": [
  {
   "cell_type": "code",
   "execution_count": 1,
   "metadata": {
    "scrolled": true
   },
   "outputs": [],
   "source": [
    "run src/midi_processing.py"
   ]
  },
  {
   "cell_type": "code",
   "execution_count": 2,
   "metadata": {},
   "outputs": [],
   "source": [
    "def one_hot_to_midi(one_hot_encoded_song):\n",
    "    #events = np.nonzero(one_hot_encoded_song)[0]\n",
    "    idxs = np.nonzero(one_hot_encoded_song)[1]\n",
    "    this_stream = stream.Stream()\n",
    "    part = stream.Part()\n",
    "    inst = instrument.Instrument('Saxophone')\n",
    "    temp = tempo.MetronomeMark('animato')\n",
    "    met = meter.TimeSignature()\n",
    "    this_stream.append(part)\n",
    "    part.append(inst)\n",
    "    part.append(temp)\n",
    "    part.append(met)\n",
    "    for idx, val in enumerate(idxs):\n",
    "        if 0 <= val <= 127:\n",
    "            pass\n",
    "        if 128 <= val <= 255:\n",
    "            pass\n",
    "        if 256 <= val <= 356:\n",
    "            time_in_seconds = (val-255)/100\n",
    "            quarter_length = temp.secondsToDuration(time_in_seconds).quarterLength\n",
    "            if idx == 0: #if first element in array represents a time-shift, it is a rest\n",
    "                r = note.Rest(quarterLength=quarterLength)\n",
    "                part.append(r)\n",
    "            elif check_if_rest(one_hot_encoded_song, idx):\n",
    "                r = note.Rest(quarterLength=quarterLength)\n",
    "                part.append(r)\n",
    "            else:\n",
    "                \n",
    "        if 356 <= val <= 387:\n",
    "            pass            "
   ]
  },
  {
   "cell_type": "code",
   "execution_count": 6,
   "metadata": {},
   "outputs": [
    {
     "data": {
      "text/plain": [
       "1.0"
      ]
     },
     "execution_count": 6,
     "metadata": {},
     "output_type": "execute_result"
    }
   ],
   "source": [
    "(355-255)/100"
   ]
  },
  {
   "cell_type": "code",
   "execution_count": 5,
   "metadata": {},
   "outputs": [],
   "source": [
    "oh = one_hot_song((corpus[67]))"
   ]
  },
  {
   "cell_type": "code",
   "execution_count": 8,
   "metadata": {},
   "outputs": [
    {
     "data": {
      "text/plain": [
       "355"
      ]
     },
     "execution_count": 8,
     "metadata": {},
     "output_type": "execute_result"
    }
   ],
   "source": [
    "np.nonzero(oh)[1][0]"
   ]
  },
  {
   "cell_type": "code",
   "execution_count": 4,
   "metadata": {},
   "outputs": [],
   "source": [
    "this_stream = stream.Stream()\n",
    "part = stream.Part()\n",
    "inst = instrument.Instrument('Saxophone')\n",
    "temp = tempo.MetronomeMark('animato')\n",
    "met = meter.TimeSignature()\n",
    "this_stream.append(part)"
   ]
  },
  {
   "cell_type": "code",
   "execution_count": 9,
   "metadata": {},
   "outputs": [],
   "source": [
    "part.append(note.Note())"
   ]
  },
  {
   "cell_type": "code",
   "execution_count": 14,
   "metadata": {},
   "outputs": [
    {
     "data": {
      "text/plain": [
       "False"
      ]
     },
     "execution_count": 14,
     "metadata": {},
     "output_type": "execute_result"
    }
   ],
   "source": [
    "isinstance(part[0], note.Rest)"
   ]
  },
  {
   "cell_type": "code",
   "execution_count": 2,
   "metadata": {},
   "outputs": [],
   "source": [
    "def check_if_chord(one_hot_encoded_song, note_index):\n",
    "    if 0 <= one_hot_encoded_song[event_index+1] <= 127:\n",
    "        return True"
   ]
  },
  {
   "cell_type": "code",
   "execution_count": null,
   "metadata": {},
   "outputs": [],
   "source": [
    "def get_chord(one_hot_encoded_song, first_note_index):\n",
    "    lst = []\n",
    "    midi_note = np.nonzero(one_hot_encoded_song)[1][first_note_index]\n",
    "    "
   ]
  },
  {
   "cell_type": "code",
   "execution_count": 3,
   "metadata": {},
   "outputs": [],
   "source": [
    "ch = chord.Chord([10,30,40])"
   ]
  },
  {
   "cell_type": "code",
   "execution_count": 4,
   "metadata": {},
   "outputs": [
    {
     "data": {
      "text/plain": [
       "(<music21.pitch.Pitch B->,\n",
       " <music21.pitch.Pitch G-1>,\n",
       " <music21.pitch.Pitch F-2>)"
      ]
     },
     "execution_count": 4,
     "metadata": {},
     "output_type": "execute_result"
    }
   ],
   "source": [
    "ch.pitches"
   ]
  },
  {
   "cell_type": "code",
   "execution_count": null,
   "metadata": {},
   "outputs": [],
   "source": []
  }
 ],
 "metadata": {
  "kernelspec": {
   "display_name": "Python 3",
   "language": "python",
   "name": "python3"
  },
  "language_info": {
   "codemirror_mode": {
    "name": "ipython",
    "version": 3
   },
   "file_extension": ".py",
   "mimetype": "text/x-python",
   "name": "python",
   "nbconvert_exporter": "python",
   "pygments_lexer": "ipython3",
   "version": "3.7.3"
  }
 },
 "nbformat": 4,
 "nbformat_minor": 2
}
