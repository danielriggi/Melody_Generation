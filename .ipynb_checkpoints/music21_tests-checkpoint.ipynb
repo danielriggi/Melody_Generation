{
 "cells": [
  {
   "cell_type": "code",
   "execution_count": 1,
   "metadata": {
    "scrolled": true
   },
   "outputs": [],
   "source": [
    "run src/midi_processing.py"
   ]
  },
  {
   "cell_type": "code",
   "execution_count": 2,
   "metadata": {},
   "outputs": [],
   "source": [
    "oh = one_hot_song(corpus[67])\n",
    "song = converter.parse(corpus[67])\n",
    "this_oh = one_hot_song('data/leads_with_rests/Sebastian Ingrosso & Alesso - Calling.mid')\n",
    "events = np.nonzero(oh)[1]"
   ]
  },
  {
   "cell_type": "code",
   "execution_count": 5,
   "metadata": {},
   "outputs": [],
   "source": [
    "def one_hot_to_midi(one_hot_song, inst='Saxophone'):\n",
    "    #events = np.nonzero(one_hot_encoded_song)[0]\n",
    "    events = np.nonzero(one_hot_song)[1]\n",
    "    this_stream = stream.Stream()\n",
    "    part = stream.Part()\n",
    "    inst = instrument.Instrument(instrument)\n",
    "    temp = tempo.MetronomeMark('animato')\n",
    "    met = meter.TimeSignature()\n",
    "    this_stream.append(part)\n",
    "    part.append(inst)\n",
    "    part.append(temp)\n",
    "    part.append(met)\n",
    "    song_iter = enumerate(events)\n",
    "    for idx, val in song_iter:\n",
    "        print(idx, val)\n",
    "        if idx == 0 and 256 <= val <= 355:\n",
    "            time, count = get_rest_duration(one_hot_song, idx)\n",
    "            quarter_length = temp.secondsToDuration(time).quarterLength\n",
    "            r = note.Rest(quarterLength=quarter_length)\n",
    "            part.append(r)\n",
    "            [next(song_iter) for _ in range(count-1)]\n",
    "        elif check_for_chord(one_hot_song, idx):\n",
    "            chord_length = get_note_count_chord(one_hot_song,idx)\n",
    "            vel_index = idx + chord_length\n",
    "            ts_index = vel_index + 1\n",
    "            time, count = get_rest_duration(one_hot_song, ts_index)\n",
    "            #print(time, count)\n",
    "            quarter_length = temp.secondsToDuration(time).quarterLength\n",
    "            dur = duration.Duration(quarter_length)\n",
    "            #print(dur, type(dur))\n",
    "            vel = (events[vel_index] - 355) * 4 - 1\n",
    "            chord_notes = get_chord(one_hot_song, idx)\n",
    "            ch = chord.Chord()\n",
    "            ch.volume = volume.Volume(velocity=vel)\n",
    "            part.append(ch)\n",
    "            step = chord_length + count +2 #add two for duration and note off events\n",
    "            [next(song_iter) for _ in range(step)]\n",
    "        elif 256 <= val <= 387 and is_rest(one_hot_song, idx) and idx != 0:\n",
    "            time, count = get_rest_duration(one_hot_song, idx)\n",
    "            quarter_length = temp.secondsToDuration(time).quarterLength\n",
    "            r = note.Rest(quarterLength=quarter_length)\n",
    "            part.append(r)\n",
    "            [next(song_iter) for _ in range(count)]\n",
    "        else:\n",
    "            time, count = get_rest_duration(one_hot_song, idx+2)\n",
    "            vel = (events[idx+1] - 355) * 4 - 1\n",
    "            quarter_length = temp.secondsToDuration(time).quarterLength\n",
    "            dur = duration.Duration(quarter_length)\n",
    "            n = note.Note(val,duration=dur)\n",
    "            n.volume.velocity = vel\n",
    "            part.append(n)\n",
    "            [next(song_iter) for _ in range(count + 1)] #add one for note off event\n",
    "    return this_stream"
   ]
  },
  {
   "cell_type": "code",
   "execution_count": 6,
   "metadata": {},
   "outputs": [
    {
     "name": "stdout",
     "output_type": "stream",
     "text": [
      "0 355\n",
      "3 55\n",
      "[56, 68]\n"
     ]
    },
    {
     "ename": "ChordException",
     "evalue": "Could not process input argument 56",
     "output_type": "error",
     "traceback": [
      "\u001b[0;31m---------------------------------------------------------------------------\u001b[0m",
      "\u001b[0;31mChordException\u001b[0m                            Traceback (most recent call last)",
      "\u001b[0;32m<ipython-input-6-77dabee93cc5>\u001b[0m in \u001b[0;36m<module>\u001b[0;34m\u001b[0m\n\u001b[0;32m----> 1\u001b[0;31m \u001b[0mone_hot_to_midi\u001b[0m\u001b[0;34m(\u001b[0m\u001b[0moh\u001b[0m\u001b[0;34m)\u001b[0m\u001b[0;34m\u001b[0m\u001b[0;34m\u001b[0m\u001b[0m\n\u001b[0m",
      "\u001b[0;32m<ipython-input-5-9772e3a40c05>\u001b[0m in \u001b[0;36mone_hot_to_midi\u001b[0;34m(one_hot_song, inst)\u001b[0m\n\u001b[1;32m     32\u001b[0m             \u001b[0mchord_notes\u001b[0m \u001b[0;34m=\u001b[0m \u001b[0mget_chord\u001b[0m\u001b[0;34m(\u001b[0m\u001b[0mone_hot_song\u001b[0m\u001b[0;34m,\u001b[0m \u001b[0midx\u001b[0m\u001b[0;34m)\u001b[0m\u001b[0;34m\u001b[0m\u001b[0;34m\u001b[0m\u001b[0m\n\u001b[1;32m     33\u001b[0m             \u001b[0mprint\u001b[0m\u001b[0;34m(\u001b[0m\u001b[0mchord_notes\u001b[0m\u001b[0;34m)\u001b[0m\u001b[0;34m\u001b[0m\u001b[0;34m\u001b[0m\u001b[0m\n\u001b[0;32m---> 34\u001b[0;31m             \u001b[0mch\u001b[0m \u001b[0;34m=\u001b[0m \u001b[0mchord\u001b[0m\u001b[0;34m.\u001b[0m\u001b[0mChord\u001b[0m\u001b[0;34m(\u001b[0m\u001b[0mnotes\u001b[0m\u001b[0;34m=\u001b[0m\u001b[0mchord_notes\u001b[0m\u001b[0;34m,\u001b[0m\u001b[0mduration\u001b[0m\u001b[0;34m=\u001b[0m\u001b[0mdur\u001b[0m\u001b[0;34m)\u001b[0m\u001b[0;34m\u001b[0m\u001b[0;34m\u001b[0m\u001b[0m\n\u001b[0m\u001b[1;32m     35\u001b[0m             \u001b[0mch\u001b[0m\u001b[0;34m.\u001b[0m\u001b[0mvolume\u001b[0m \u001b[0;34m=\u001b[0m \u001b[0mvolume\u001b[0m\u001b[0;34m.\u001b[0m\u001b[0mVolume\u001b[0m\u001b[0;34m(\u001b[0m\u001b[0mvelocity\u001b[0m\u001b[0;34m=\u001b[0m\u001b[0mvel\u001b[0m\u001b[0;34m)\u001b[0m\u001b[0;34m\u001b[0m\u001b[0;34m\u001b[0m\u001b[0m\n\u001b[1;32m     36\u001b[0m             \u001b[0mpart\u001b[0m\u001b[0;34m.\u001b[0m\u001b[0mappend\u001b[0m\u001b[0;34m(\u001b[0m\u001b[0mch\u001b[0m\u001b[0;34m)\u001b[0m\u001b[0;34m\u001b[0m\u001b[0;34m\u001b[0m\u001b[0m\n",
      "\u001b[0;32m~/anaconda3/lib/python3.7/site-packages/music21/chord/__init__.py\u001b[0m in \u001b[0;36m__init__\u001b[0;34m(self, notes, **keywords)\u001b[0m\n\u001b[1;32m    221\u001b[0m             \u001b[0mdurationKeyword\u001b[0m \u001b[0;34m=\u001b[0m \u001b[0mkeywords\u001b[0m\u001b[0;34m[\u001b[0m\u001b[0;34m'duration'\u001b[0m\u001b[0;34m]\u001b[0m\u001b[0;34m\u001b[0m\u001b[0;34m\u001b[0m\u001b[0m\n\u001b[1;32m    222\u001b[0m \u001b[0;34m\u001b[0m\u001b[0m\n\u001b[0;32m--> 223\u001b[0;31m         \u001b[0mdurationKeyword\u001b[0m \u001b[0;34m=\u001b[0m \u001b[0mself\u001b[0m\u001b[0;34m.\u001b[0m\u001b[0m_add_core_or_init\u001b[0m\u001b[0;34m(\u001b[0m\u001b[0mnotes\u001b[0m\u001b[0;34m,\u001b[0m \u001b[0museDuration\u001b[0m\u001b[0;34m=\u001b[0m\u001b[0mdurationKeyword\u001b[0m\u001b[0;34m)\u001b[0m\u001b[0;34m\u001b[0m\u001b[0;34m\u001b[0m\u001b[0m\n\u001b[0m\u001b[1;32m    224\u001b[0m \u001b[0;34m\u001b[0m\u001b[0m\n\u001b[1;32m    225\u001b[0m \u001b[0;34m\u001b[0m\u001b[0m\n",
      "\u001b[0;32m~/anaconda3/lib/python3.7/site-packages/music21/chord/__init__.py\u001b[0m in \u001b[0;36m_add_core_or_init\u001b[0;34m(self, notes, useDuration)\u001b[0m\n\u001b[1;32m    638\u001b[0m                 \u001b[0;31m# self._notes.append({'pitch':music21.pitch.Pitch(n)})\u001b[0m\u001b[0;34m\u001b[0m\u001b[0;34m\u001b[0m\u001b[0;34m\u001b[0m\u001b[0m\n\u001b[1;32m    639\u001b[0m             \u001b[0;32melse\u001b[0m\u001b[0;34m:\u001b[0m\u001b[0;34m\u001b[0m\u001b[0;34m\u001b[0m\u001b[0m\n\u001b[0;32m--> 640\u001b[0;31m                 \u001b[0;32mraise\u001b[0m \u001b[0mChordException\u001b[0m\u001b[0;34m(\u001b[0m\u001b[0;34m'Could not process input argument %s'\u001b[0m \u001b[0;34m%\u001b[0m \u001b[0mn\u001b[0m\u001b[0;34m)\u001b[0m\u001b[0;34m\u001b[0m\u001b[0;34m\u001b[0m\u001b[0m\n\u001b[0m\u001b[1;32m    641\u001b[0m \u001b[0;34m\u001b[0m\u001b[0m\n\u001b[1;32m    642\u001b[0m         \u001b[0;32mreturn\u001b[0m \u001b[0museDuration\u001b[0m\u001b[0;34m\u001b[0m\u001b[0;34m\u001b[0m\u001b[0m\n",
      "\u001b[0;31mChordException\u001b[0m: Could not process input argument 56"
     ]
    }
   ],
   "source": [
    "one_hot_to_midi(oh)"
   ]
  },
  {
   "cell_type": "code",
   "execution_count": 12,
   "metadata": {},
   "outputs": [],
   "source": [
    "x = [56, 68]"
   ]
  },
  {
   "cell_type": "code",
   "execution_count": 13,
   "metadata": {},
   "outputs": [],
   "source": [
    "c = chord.Chord(x)"
   ]
  },
  {
   "cell_type": "code",
   "execution_count": 10,
   "metadata": {},
   "outputs": [],
   "source": [
    "c2 = chord.Chord(y)"
   ]
  },
  {
   "cell_type": "code",
   "execution_count": 9,
   "metadata": {},
   "outputs": [],
   "source": [
    "y = ['D3', 'F#4', 'A5']"
   ]
  },
  {
   "cell_type": "code",
   "execution_count": 11,
   "metadata": {
    "scrolled": true
   },
   "outputs": [
    {
     "data": {
      "text/plain": [
       "(<music21.pitch.Pitch D3>, <music21.pitch.Pitch F#4>, <music21.pitch.Pitch A5>)"
      ]
     },
     "execution_count": 11,
     "metadata": {},
     "output_type": "execute_result"
    }
   ],
   "source": [
    "c2.pitches"
   ]
  },
  {
   "cell_type": "code",
   "execution_count": 6,
   "metadata": {
    "scrolled": true
   },
   "outputs": [
    {
     "data": {
      "text/plain": [
       "array([355, 355, 355,  55,  67, 378, 280, 183, 195,  64,  76, 378, 268,\n",
       "       192, 204,  62,  74, 378, 268, 190, 202,  60,  72, 378, 305, 188,\n",
       "       200,  62,  74, 378, 305, 190, 202,  60,  72, 378, 280, 188, 200,\n",
       "       280,  60,  72, 378, 272, 188, 200,  60,  72, 367, 188, 200, 263,\n",
       "        62,  74, 378, 305, 190, 202,  59,  71, 378, 305, 187, 199,  60,\n",
       "        72, 378, 305, 188, 200, 280,  55,  67, 378, 280, 183, 195,  64,\n",
       "        76, 378, 268, 192, 204,  62,  74, 378, 268, 190, 202,  60,  72,\n",
       "       378, 305, 188, 200,  62,  74, 378, 305, 190, 202,  60,  72, 378,\n",
       "       280, 188, 200, 280,  60,  72, 378, 272, 188, 200,  60,  72, 367,\n",
       "       188, 200, 263,  62,  74, 378, 280, 190, 202,  60,  72, 378, 280,\n",
       "       188, 200,  57,  69, 378, 305, 185, 197, 330,  55,  67, 378, 280,\n",
       "       183, 195,  64,  76, 378, 268, 192, 204,  62,  74, 378, 268, 190,\n",
       "       202,  60,  72, 378, 305, 188, 200,  62,  74, 378, 305, 190, 202,\n",
       "        60,  72, 378, 280, 188, 200, 280,  60,  72, 378, 272, 188, 200,\n",
       "        60,  72, 367, 188, 200, 263,  62,  74, 378, 305, 190, 202,  59,\n",
       "        71, 378, 305, 187, 199,  60,  72, 378, 305, 188, 200, 280,  55,\n",
       "        67, 378, 280, 183, 195,  64,  76, 378, 268, 192, 204,  62,  74,\n",
       "       378, 268, 190, 202,  60,  72, 378, 305, 188, 200,  62,  74, 378,\n",
       "       305, 190, 202,  60,  72, 378, 280, 188, 200, 280,  60,  72, 378,\n",
       "       272, 188, 200,  60,  72, 367, 188, 200, 263,  62,  74, 378, 280,\n",
       "       190, 202,  60,  72, 378, 280, 188, 200,  57,  69, 378, 305, 185,\n",
       "       197, 330,  55,  67, 378, 280, 183, 195,  64,  76, 378, 268, 192,\n",
       "       204,  62,  74, 378, 268, 190, 202,  60,  72, 378, 305, 188, 200,\n",
       "        62,  74, 378, 305, 190, 202,  60,  72, 378, 280, 188, 200, 280,\n",
       "        60,  72, 378, 272, 188, 200,  60,  72, 367, 188, 200, 263,  62,\n",
       "        74, 378, 305, 190, 202,  59,  71, 378, 305, 187, 199,  60,  72,\n",
       "       378, 305, 188, 200, 280,  55,  67, 378, 280, 183, 195,  64,  76,\n",
       "       378, 268, 192, 204,  62,  74, 378, 268, 190, 202,  60,  72, 378,\n",
       "       305, 188, 200,  62,  74, 378, 305, 190, 202,  60,  72, 378, 280,\n",
       "       188, 200, 280,  60,  72, 378, 272, 188, 200,  60,  72, 367, 188,\n",
       "       200, 263,  62,  74, 378, 280, 190, 202,  60,  72, 378, 280, 188,\n",
       "       200,  57,  69, 378, 305, 185, 197, 330,  55,  67, 378, 280, 183,\n",
       "       195,  64,  76, 378, 268, 192, 204,  62,  74, 378, 268, 190, 202,\n",
       "        60,  72, 378, 305, 188, 200,  62,  74, 378, 305, 190, 202,  60,\n",
       "        72, 378, 280, 188, 200, 280,  60,  72, 378, 272, 188, 200,  60,\n",
       "        72, 367, 188, 200, 263,  62,  74, 378, 305, 190, 202,  59,  71,\n",
       "       378, 305, 187, 199,  60,  72, 378, 305, 188, 200, 280,  55,  67,\n",
       "       378, 280, 183, 195,  64,  76, 378, 268, 192, 204,  62,  74, 378,\n",
       "       268, 190, 202,  60,  72, 378, 305, 188, 200,  62,  74, 378, 280,\n",
       "       190, 202, 355, 355, 355,  55,  67, 378, 280, 183, 195,  64,  76,\n",
       "       378, 268, 192, 204,  62,  74, 378, 268, 190, 202,  60,  72, 378,\n",
       "       305, 188, 200,  62,  74, 378, 305, 190, 202,  60,  72, 378, 280,\n",
       "       188, 200, 280,  60,  72, 378, 272, 188, 200,  60,  72, 367, 188,\n",
       "       200, 263,  62,  74, 378, 305, 190, 202,  59,  71, 378, 305, 187,\n",
       "       199,  60,  72, 378, 305, 188, 200, 280,  55,  67, 378, 280, 183,\n",
       "       195,  64,  76, 378, 268, 192, 204,  62,  74, 378, 268, 190, 202,\n",
       "        60,  72, 378, 305, 188, 200,  62,  74, 378, 305, 190, 202,  60,\n",
       "        72, 378, 280, 188, 200, 280,  60,  72, 378, 272, 188, 200,  60,\n",
       "        72, 367, 188, 200, 263,  62,  74, 378, 280, 190, 202,  60,  72,\n",
       "       378, 280, 188, 200,  57,  69, 378, 305, 185, 197, 330,  55,  67,\n",
       "       378, 280, 183, 195,  64,  76, 378, 268, 192, 204,  62,  74, 378,\n",
       "       268, 190, 202,  60,  72, 378, 305, 188, 200,  62,  74, 378, 305,\n",
       "       190, 202,  60,  72, 378, 280, 188, 200, 280,  60,  72, 378, 272,\n",
       "       188, 200,  60,  72, 367, 188, 200, 263,  62,  74, 378, 305, 190,\n",
       "       202,  59,  71, 378, 305, 187, 199,  60,  72, 378, 305, 188, 200,\n",
       "       280,  55,  67, 378, 280, 183, 195,  64,  76, 378, 268, 192, 204,\n",
       "        62,  74, 378, 268, 190, 202,  60,  72, 378, 305, 188, 200,  62,\n",
       "        74, 378, 305, 190, 202,  60,  72, 378, 280, 188, 200, 280,  60,\n",
       "        72, 378, 272, 188, 200,  60,  72, 367, 188, 200, 263,  62,  74,\n",
       "       378, 280, 190, 202,  60,  72, 378, 280, 188, 200,  57,  69, 378,\n",
       "       305, 185, 197])"
      ]
     },
     "execution_count": 6,
     "metadata": {},
     "output_type": "execute_result"
    }
   ],
   "source": [
    "events"
   ]
  },
  {
   "cell_type": "code",
   "execution_count": null,
   "metadata": {},
   "outputs": [],
   "source": []
  }
 ],
 "metadata": {
  "kernelspec": {
   "display_name": "Python 3",
   "language": "python",
   "name": "python3"
  },
  "language_info": {
   "codemirror_mode": {
    "name": "ipython",
    "version": 3
   },
   "file_extension": ".py",
   "mimetype": "text/x-python",
   "name": "python",
   "nbconvert_exporter": "python",
   "pygments_lexer": "ipython3",
   "version": "3.7.3"
  }
 },
 "nbformat": 4,
 "nbformat_minor": 2
}
