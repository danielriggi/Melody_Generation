{
 "cells": [
  {
   "cell_type": "code",
   "execution_count": 1,
   "metadata": {
    "scrolled": true
   },
   "outputs": [],
   "source": [
    "run src/midi_processing.py"
   ]
  },
  {
   "cell_type": "code",
   "execution_count": 2,
   "metadata": {},
   "outputs": [],
   "source": [
    "def one_hot_midi_song(midi):\n",
    "    song = converter.parse(midi)\n",
    "    seconds_map = song.flat.getElementsByClass(['Note', 'Rest', 'Chord']).secondsMap\n",
    "    one_hot_list = []\n",
    "    for note in seconds_map:\n",
    "        note_length = round(note['durationSeconds'],3)\n",
    "        print(note_length)\n",
    "        note_type = note['element']\n",
    "        if note_type.isRest:\n",
    "            if note_length > 3.5: #check if time shift is greater than three and a half seconds \n",
    "                note_length = 3.0\n",
    "            while note_length > 0.0:\n",
    "                if note_length <= 1.0: #if note length is greater than the maximum encodable time shift\n",
    "                    one_hot_list.append(one_hot_time(note_length))\n",
    "                    note_length = 0.0\n",
    "                elif note_length > 1.0:\n",
    "                    one_hot_list.append(one_hot_time(1.0))\n",
    "                    note_length -= 1.0\n",
    "                \n",
    "                    \n",
    "        elif note_type.isChord: #check if element is a chord\n",
    "            vel = get_vel_from_chord(note_type)\n",
    "            note_lst = get_notes_from_chord(note_type) #if element is a chord, get all notes\n",
    "            for note in note_lst: #one hot each note-on in the chord\n",
    "                one_hot_list.append(one_hot_note_on(note)) \n",
    "            one_hot_list.append(one_hot_vel(vel)) #one hot velocity\n",
    "            while note_length > 0.0:\n",
    "                if note_length <= 1.0: #if note length is greater than the maximum encodable time shift\n",
    "                    one_hot_list.append(one_hot_time(note_length))\n",
    "                    note_length = 0.0\n",
    "                elif note_length > 1.0:\n",
    "                    one_hot_list.append(one_hot_time(1.0))\n",
    "                    note_length -= 1.0            \n",
    "            for note in note_lst:\n",
    "                one_hot_list.append(one_hot_note_off(note)) #turn off each note in chord\n",
    "\n",
    "        else:\n",
    "            vel = note_type.volume.velocity #get velocity from note\n",
    "            pitch = get_pitch_from_note(note['element'])\n",
    "            one_hot_list.append(one_hot_note_on(pitch)) #one hot note-on\n",
    "            one_hot_list.append(one_hot_vel(vel))\n",
    "            if note_length <= 1.0: #if note length is greater than the maximum encodable time shift\n",
    "                    one_hot_list.append(one_hot_time(note_length))\n",
    "                    note_length = 0.0\n",
    "                elif note_length > 1.0:\n",
    "                    one_hot_list.append(one_hot_time(1.0))\n",
    "                    note_length -= 1.0 \n",
    "            one_hot_list.append(one_hot_note_off(pitch))  \n",
    "    return one_hot_list"
   ]
  },
  {
   "cell_type": "code",
   "execution_count": 2,
   "metadata": {},
   "outputs": [],
   "source": [
    "song = converter.parse(\"data/leads_with_rests/Above & Beyond - We're All We Need (Original Mix) (midi by Carlo Prato) (www.cprato.com).mid\")\n",
    "seconds_map = song.flat.getElementsByClass(['Note', 'Rest', 'Chord']).secondsMap"
   ]
  },
  {
   "cell_type": "code",
   "execution_count": 3,
   "metadata": {},
   "outputs": [
    {
     "data": {
      "text/plain": [
       "{'offsetSeconds': 0.0,\n",
       " 'durationSeconds': 16.0,\n",
       " 'endTimeSeconds': 16.0,\n",
       " 'element': <music21.note.Rest rest>,\n",
       " 'voiceIndex': None}"
      ]
     },
     "execution_count": 3,
     "metadata": {},
     "output_type": "execute_result"
    }
   ],
   "source": [
    "seconds_map[0]"
   ]
  },
  {
   "cell_type": "code",
   "execution_count": 7,
   "metadata": {
    "scrolled": true
   },
   "outputs": [],
   "source": [
    "one_hot_list = []\n",
    "for note in seconds_map:\n",
    "        note_length = round(note['durationSeconds'],3)\n",
    "        note_type = note['element']\n",
    "        if note_type.isRest:\n",
    "            if note_length > 3.5: #check if time shift is greater than three and a half seconds \n",
    "                note_length = 3.0\n",
    "            while note_length > 0.0:\n",
    "                if note_length <= 1.0: #if note length is greater than the maximum encodable time shift\n",
    "                    one_hot_list.append(one_hot_time(note_length))\n",
    "                    note_length = 0.0\n",
    "                elif note_length > 1.0:\n",
    "                    one_hot_list.append(one_hot_time(1.0))\n",
    "                    note_length -= 1.0"
   ]
  },
  {
   "cell_type": "markdown",
   "metadata": {},
   "source": [
    " # Need to change one-hot encoding function to allow for durations longer than 1 second!!!!!\n",
    " ### The songs below all have the durations longer than a second:\n",
    " data/leads_with_rests/KSHMR-Brooks-ID-theseus-20190812190453-nonstop2k.com.mid\n",
    "data/leads_with_rests/Andrew-Rayel-NWYR-The-Melody-theseus-20190522144405-nonstop2k.com.mid\n",
    "data/leads_with_rests/Brooks-Jonas-Aden-Riot-theseus-20190906104700-nonstop2k.com.mid\n",
    "data/leads_with_rests/Cash-Cash-Call-You-feat-Nasri-of-MAGIC-theseus-20190702210618-nonstop2k.com.mid\n",
    "data/leads_with_rests/Illenium-Free-Fall-andrew-ushakov96-20171007220131-nonstop2k.com.mid\n",
    "data/leads_with_rests/Alesso ft. Matthew Koma - Years (Original Mix) (midi by Carlo Prato) (www.cprato.com).mid\n",
    "data/leads_with_rests/Martin-Garrix-JRM-These-Are-The-Times-theseus-20190826192700-nonstop2k.com.mid\n",
    "data/leads_with_rests/Alan_Walker_Faded.mid\n",
    "data/leads_with_rests/Cacti - Believing in You (Midi by Carlo Prato) (www.cprato.com).mid\n",
    "data/leads_with_rests/R-F-S-DU-SOL-Treat-You-Better-Cassian-Remix-theseus-20190716205438-nonstop2k.com.mid\n",
    "data/leads_with_rests/RL-Grime-Miguel-Julia-Michaels-Light-Me-Up-rlc-winston-20180918222247-nonstop2k.com.mid\n",
    "data/leads_with_rests/Avicii_Without_You.mid\n",
    "data/leads_with_rests/Tiesto-Stargate-Aloe-Blacc-Carry-You-Home-rlc-winston-20171007220141-nonstop2k.com.mid\n",
    "data/leads_with_rests/Alesso-Nico-Vinz-I-Wanna-Know-BassBringer-20160613224729-nonstop2k.com.mid\n",
    "data/leads_with_rests/Kygo_firestone.mid\n",
    "data/leads_with_rests/R3hab-KSHMR-Islands-max123a-20171205145137-nonstop2k.com.mid\n",
    "data/leads_with_rests/Marshmello-Chvrches-Here-With-Me-theseus-20190522144255-nonstop2k.com.mid\n",
    "data/leads_with_rests/Kill Paris ft. Royal - Operate (Illenium Remix) (midi by Carlo Prato) (www.cprato.com).mid\n",
    "data/leads_with_rests/Said-the-Sky-Mountains-ft-Diamond-Eyes-Skrux-Remix-Anonymous-20180119055128-nonstop2k.com.mid\n",
    "data/leads_with_rests/Marshmello-Bastille-Happier-theseus-20181222133008-nonstop2k.com.mid\n",
    "data/leads_with_rests/Kygo-Sasha-Sloan-This-Town-rlc-winston-20171030170239-nonstop2k.com.mid\n",
    "data/leads_with_rests/Cash-Cash-All-My-Love-ft-Conor-Maynard-andrew-ushakov96-20170725222833-nonstop2k.com.mid\n",
    "data/leads_with_rests/Tiesto-Can-You-Feel-It-ft-John-Christian-theseus-20190522144356-nonstop2k.com.mid\n",
    "data/leads_with_rests/San Holo - Light  (midi by Carlo Prato) (www.cprato.com).mid\n",
    "data/leads_with_rests/RL_Grime_Neat.mid\n",
    "data/leads_with_rests/Kygo-Here-For-You-ft-Ella-Henderson-Frozen-Ray-20160105221803-nonstop2k.com.mid\n",
    "data/leads_with_rests/Skrillex_Firstoftheyear(Equinox).mid\n",
    "data/leads_with_rests/Kaskade-Ilsey-Disarm-You-ft-Ilsey-Frozen-Ray-20150920121437-nonstop2k.com.mid\n",
    "data/leads_with_rests/MartinGarrix_&_DuaLipa_ScaredToBeLonely.mid\n",
    "data/leads_with_rests/Zedd-Alessia-Cara-Stay-Acoustic-version-rlc-winston-20180409063340-nonstop2k.com.mid\n",
    "data/leads_with_rests/Dimitri Vegas & Like Mike - Stay A While  (Original Mix) (midi by Carlo Prato) (www.cprato.com).mid\n",
    "data/leads_with_rests/Hardwell-Timmy-Trumpet-The-Underground-andrew-ushakov96-20180217050005-nonstop2k.com.mid\n",
    "data/leads_with_rests/RL-Grime-Daya-I-Wanna-Know-rlc-winston-20180418200244-nonstop2k.com.mid\n",
    "data/leads_with_rests/Alan-Walker-Darkside-ft-Tomine-Harket-Au-Ra-rlc-winston-20180819174026-nonstop2k.com.mid\n",
    "data/leads_with_rests/Martin-Garrix-High-On-Life-ft-Bonn-rlc-winston-20180818221000-nonstop2k.com.mid\n",
    "data/leads_with_rests/R3hab-Quintino-I-Just-Can-t-andrew-ushakov96-20171013110942-nonstop2k.com.mid\n",
    "data/leads_with_rests/The-Chainsmokers-Tritonal-Until-You-Were-Gone-andrew-ushakov96-20160609222510-nonstop2k.com.mid\n",
    "data/leads_with_rests/Marshmello_Summer.mid\n",
    "data/leads_with_rests/Avicii-I-ll-Be-Gone-Frozen-Ray-20180510190809-nonstop2k.com.mid\n",
    "data/leads_with_rests/Audien-Cecilia-Gault-Higher-theseus-20190209171713-nonstop2k.com.mid\n",
    "data/leads_with_rests/Above & Beyond - We're All We Need (Original Mix) (midi by Carlo Prato) (www.cprato.com).mid\n",
    "data/leads_with_rests/Avicii-Imagine-Dragons-Heart-Upon-My-Sleeve-theseus-20190616202406-nonstop2k.com.mid\n",
    "data/leads_with_rests/Alesso - Years.mid"
   ]
  }
 ],
 "metadata": {
  "kernelspec": {
   "display_name": "Python 3",
   "language": "python",
   "name": "python3"
  },
  "language_info": {
   "codemirror_mode": {
    "name": "ipython",
    "version": 3
   },
   "file_extension": ".py",
   "mimetype": "text/x-python",
   "name": "python",
   "nbconvert_exporter": "python",
   "pygments_lexer": "ipython3",
   "version": "3.7.3"
  }
 },
 "nbformat": 4,
 "nbformat_minor": 2
}
